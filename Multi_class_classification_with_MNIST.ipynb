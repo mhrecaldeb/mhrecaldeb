{
  "nbformat": 4,
  "nbformat_minor": 0,
  "metadata": {
    "colab": {
      "name": "Multi-class classification with MNIST.ipynb",
      "provenance": [],
      "collapsed_sections": [
        "tX_umRMMsa3z"
      ],
      "include_colab_link": true
    },
    "kernelspec": {
      "name": "python3",
      "display_name": "Python 3"
    }
  },
  "cells": [
    {
      "cell_type": "markdown",
      "metadata": {
        "id": "view-in-github",
        "colab_type": "text"
      },
      "source": [
        "<a href=\"https://colab.research.google.com/github/mhrecaldeb/mhrecaldeb/blob/main/Multi_class_classification_with_MNIST.ipynb\" target=\"_parent\"><img src=\"https://colab.research.google.com/assets/colab-badge.svg\" alt=\"Open In Colab\"/></a>"
      ]
    },
    {
      "cell_type": "code",
      "metadata": {
        "id": "wDlWLbfkJtvu"
      },
      "source": [
        "#@title Copyright 2020 Google LLC. Double-click here for license information.\n",
        "# Licensed under the Apache License, Version 2.0 (the \"License\");\n",
        "# you may not use this file except in compliance with the License.\n",
        "# You may obtain a copy of the License at\n",
        "#\n",
        "# https://www.apache.org/licenses/LICENSE-2.0\n",
        "#\n",
        "# Unless required by applicable law or agreed to in writing, software\n",
        "# distributed under the License is distributed on an \"AS IS\" BASIS,\n",
        "# WITHOUT WARRANTIES OR CONDITIONS OF ANY KIND, either express or implied.\n",
        "# See the License for the specific language governing permissions and\n",
        "# limitations under the License.\n",
        "\n",
        "# Yann LeCun and Corinna Cortes hold the copyright of MNIST dataset,\n",
        "# which is a derivative work from original NIST datasets. \n",
        "# MNIST dataset is made available under the terms of the \n",
        "# Creative Commons Attribution-Share Alike 3.0 license."
      ],
      "execution_count": 1,
      "outputs": []
    },
    {
      "cell_type": "markdown",
      "metadata": {
        "id": "TL5y5fY9Jy_x"
      },
      "source": [
        "# Multi-Class Classification\n",
        "\n",
        "This Colab explore multi-class classification problems through the classic MNIST dataset."
      ]
    },
    {
      "cell_type": "markdown",
      "metadata": {
        "id": "XuKlphuImFSN"
      },
      "source": [
        "## Learning Objectives:\n",
        "\n",
        "After doing this Colab, you'll know how to do the following:\n",
        "\n",
        "  * Understand the classic MNIST problem.\n",
        "  * Create a deep neural network that performs multi-class classification.\n",
        "  * Tune the deep neural network.\n",
        "\n",
        "This exercise introduces image classification with machine learning."
      ]
    },
    {
      "cell_type": "markdown",
      "metadata": {
        "id": "cxj8yVh4mFl5"
      },
      "source": [
        "## The Dataset\n",
        "  \n",
        "This MNIST dataset contains a lot of examples:\n",
        "\n",
        "* The MNIST training set contains 60,000 examples.\n",
        "* The MNIST test set contains 10,000 examples.\n",
        "\n",
        "Each example contains a pixel map showing how a person wrote a digit. For example, the following images shows how a person wrote the digit `1` and how that digit might be represented in a 14x14 pixel map (after the input data is normalized). \n",
        "\n",
        "![Two images. The first image shows a somewhat fuzzy digit one. The second image shows a 14x14 floating-point array in which most of the cells contain 0 but a few cells contain values between 0.0 and 1.0. The pattern of nonzero values corresponds to the image of the fuzzy digit in the first image.](https://www.tensorflow.org/images/MNIST-Matrix.png)\n",
        "\n",
        "Each example in the MNIST dataset consists of:\n",
        "\n",
        "* A label specified by a [rater](https://developers.google.com/machine-learning/glossary/#rater).  Each label must be an integer from 0 to 9.  For example, in the preceding image, the rater would almost certainly assign the label `1` to the example.\n",
        "* A 28x28 pixel map (or it is 14x14?), where each pixel is an integer between 0 and 255. The pixel values are on a gray scale in which 0 represents white, 255 represents black, and values between 0 and 255 represent various shades of gray.  \n",
        "\n",
        "This is a multi-class classification problem with 10 output classes, one for each digit."
      ]
    },
    {
      "cell_type": "markdown",
      "metadata": {
        "id": "tX_umRMMsa3z"
      },
      "source": [
        "## Use the right version of TensorFlow\n",
        "\n",
        "The following hidden code cell ensures that the Colab will run on TensorFlow 2.X."
      ]
    },
    {
      "cell_type": "code",
      "metadata": {
        "id": "lM75uNH-sTv2"
      },
      "source": [
        "#@title Run on TensorFlow 2.x\n",
        "%tensorflow_version 2.x\n",
        "from __future__ import absolute_import, division, print_function, unicode_literals"
      ],
      "execution_count": 2,
      "outputs": []
    },
    {
      "cell_type": "markdown",
      "metadata": {
        "id": "xchnxAsaKKqO"
      },
      "source": [
        "## Import relevant modules\n",
        "\n",
        "The following hidden code cell imports the necessary code to run the code in the rest of this Colaboratory."
      ]
    },
    {
      "cell_type": "code",
      "metadata": {
        "id": "9n9_cTveKmse"
      },
      "source": [
        "#@title Import relevant modules\n",
        "import numpy as np\n",
        "import pandas as pd\n",
        "import tensorflow as tf\n",
        "from tensorflow.keras import layers\n",
        "from matplotlib import pyplot as plt\n",
        "\n",
        "# The following lines adjust the granularity of reporting. \n",
        "pd.options.display.max_rows = 20\n",
        "pd.options.display.float_format = \"{:.3f}\".format\n",
        "\n",
        "# The following line improves formatting when ouputting NumPy arrays.\n",
        "np.set_printoptions(linewidth = 200)"
      ],
      "execution_count": 3,
      "outputs": []
    },
    {
      "cell_type": "markdown",
      "metadata": {
        "id": "X_TaJhU4KcuY"
      },
      "source": [
        "## Load the dataset\n",
        "\n",
        "`tf.keras` provides a set of convenience functions for loading well-known datasets. Each of these convenience functions does the following:\n",
        "\n",
        "* Loads both the training set and the test set.\n",
        "* Separates each set into features and labels.\n",
        "\n",
        "The relevant convenience function for MNIST is called `mnist.load_data()`:"
      ]
    },
    {
      "cell_type": "code",
      "metadata": {
        "id": "JZlvdpyYKx7V",
        "colab": {
          "base_uri": "https://localhost:8080/"
        },
        "outputId": "24d6c37d-31bd-44a0-b207-df337d234796"
      },
      "source": [
        "(x_train, y_train),(x_test, y_test) = tf.keras.datasets.mnist.load_data()\n"
      ],
      "execution_count": 4,
      "outputs": [
        {
          "output_type": "stream",
          "name": "stdout",
          "text": [
            "Downloading data from https://storage.googleapis.com/tensorflow/tf-keras-datasets/mnist.npz\n",
            "11493376/11490434 [==============================] - 0s 0us/step\n",
            "11501568/11490434 [==============================] - 0s 0us/step\n"
          ]
        }
      ]
    },
    {
      "cell_type": "markdown",
      "metadata": {
        "id": "SfQkr3hxJGXU"
      },
      "source": [
        "Notice that `mnist.load_data()` returned four separate values:\n",
        "\n",
        "* `x_train` contains the training set's features.\n",
        "* `y_train` contains the training set's labels.\n",
        "* `x_test` contains the test set's features.\n",
        "* `y_test` contains the test set's labels.\n",
        "\n",
        "**Note:** The MNIST .csv training set is already shuffled."
      ]
    },
    {
      "cell_type": "markdown",
      "metadata": {
        "id": "71vsSUM7pdmu"
      },
      "source": [
        "## View the dataset\n",
        "\n",
        "The .csv file for the California Housing Dataset contains column names (for example, `latitude`, `longitude`, `population`). By contrast, the .csv file for MNIST does not contain column names. Instead of column names, you use ordinal numbers to access different subsets of the MNIST dataset. In fact, it is probably best to think of `x_train` and `x_test` as three-dimensional NumPy arrays:  \n",
        "\n"
      ]
    },
    {
      "cell_type": "code",
      "metadata": {
        "id": "IoOhpjkeCL8Q",
        "colab": {
          "base_uri": "https://localhost:8080/"
        },
        "outputId": "aa13e7e4-b2df-4a15-f7c9-1389db637ba5"
      },
      "source": [
        "# Output example #2917 of the training set.\n",
        "x_train[2917]"
      ],
      "execution_count": 5,
      "outputs": [
        {
          "output_type": "execute_result",
          "data": {
            "text/plain": [
              "array([[  0,   0,   0,   0,   0,   0,   0,   0,   0,   0,   0,   0,   0,   0,   0,   0,   0,   0,   0,   0,   0,   0,   0,   0,   0,   0,   0,   0],\n",
              "       [  0,   0,   0,   0,   0,   0,   0,   0,   0,   0,   0,   0,   0,   0,   0,   0,   0,   0,   0,   0,   0,   0,   0,   0,   0,   0,   0,   0],\n",
              "       [  0,   0,   0,   0,   0,   0,   0,   0,   0,   0,   0,   0,   0,   0,   0,   0,   0,   0,   0,   0,   0,   0,   0,   0,   0,   0,   0,   0],\n",
              "       [  0,   0,   0,   0,   0,   0,   0,   0,   0,   0,   0,   0,   0,   0,   0,   0,   0,   0,   0,   0,   0,   0,   0,   0,   0,   0,   0,   0],\n",
              "       [  0,   0,   0,   0,   0,   0,   0,   0,   0,   0,   0,   0,   0,   0,   0,   0,   0,   0,   0,   0,   0,   0,   0,   0,   0,   0,   0,   0],\n",
              "       [  0,   0,   0,   0,   0,   0,   0,   0,   0,   0,   0,   0,   0,   0,   0,   0,   0,   0,   0,   0,   0,   0,   0,   0,   0,   0,   0,   0],\n",
              "       [  0,   0,   0,   0,   0,   0,   0,   0, 127, 100, 156, 239, 224, 177, 213, 159,  70,  13,   0,   0,   0,   0,   0,   0,   0,   0,   0,   0],\n",
              "       [  0,   0,   0,   0,   0,   0,   0, 110, 250, 254, 254, 254, 254, 254, 254, 254, 254, 184,  10,   0,   0,   0,   0,   0,   0,   0,   0,   0],\n",
              "       [  0,   0,   0,   0,   0,   0,   0, 216, 254, 254, 254, 254, 254, 254, 254, 254, 254, 251,  54,   0,   0,   0,   0,   0,   0,   0,   0,   0],\n",
              "       [  0,   0,   0,   0,   0,   0,   0,   3, 131, 197,  68, 137, 101,  83,  41,  70, 221, 254, 108,   0,   0,   0,   0,   0,   0,   0,   0,   0],\n",
              "       [  0,   0,   0,   0,   0,   0,   0,   0,   0,   0,   0,   0,   0,   0,   0,   0,  58, 254, 216,  11,   0,   0,   0,   0,   0,   0,   0,   0],\n",
              "       [  0,   0,   0,   0,   0,   0,   0,   0,   0,   0,   0,   0,   0,   0,   0,   0, 110, 254, 254,  24,   0,   0,   0,   0,   0,   0,   0,   0],\n",
              "       [  0,   0,   0,   0,   0,   0,   0,   0,   0,   0,   0,   0,   0,   0,   4,  83, 247, 254, 192,  10,   0,   0,   0,   0,   0,   0,   0,   0],\n",
              "       [  0,   0,   0,   0,   0,   0,   0,   0,   0,   0,   0,   0,   0,  37, 124, 254, 254, 250,  47,   0,   0,   0,   0,   0,   0,   0,   0,   0],\n",
              "       [  0,   0,   0,   0,   0,   0,   0,   0,   0,   0,   0, 113, 178, 250, 254, 254, 254, 252, 178, 128,  50,   0,   0,   0,   0,   0,   0,   0],\n",
              "       [  0,   0,   0,   0,   0,   0,   0,   0,   0,   0,  69, 252, 254, 254, 254, 254, 254, 254, 254, 254, 153,   0,   0,   0,   0,   0,   0,   0],\n",
              "       [  0,   0,   0,   0,   0,   0,   0,   0,   0,   0, 141, 252, 254, 241, 241, 254, 247, 252, 254, 254, 153,   0,   0,   0,   0,   0,   0,   0],\n",
              "       [  0,   0,   0,   0,   0,   0,   0,   0,   0,   0,   0,  68,  82,   5,   5,  82,  37,  65, 167, 254, 190,   0,   0,   0,   0,   0,   0,   0],\n",
              "       [  0,   0,   0,   0,   0,   0,   0,   0,   0,   0,   0,   0,   0,   0,   0,   0,   0,   0, 162, 254, 153,   0,   0,   0,   0,   0,   0,   0],\n",
              "       [  0,   0,   0,   0,   0,   0,   0,   0,   0,   0,   0,   0,   0,   0,   0,   0,   0,   1, 172, 253,  75,   0,   0,   0,   0,   0,   0,   0],\n",
              "       [  0,   0,   0,   0,   0,   0,   0,   0,   0,   0,   0,   0,   0,   0,   0,   0,   0, 102, 254, 152,   0,   0,   0,   0,   0,   0,   0,   0],\n",
              "       [  0,   0,   0,   0,   0,   0,   0,   0,   0,   0,   0,   0,   0,   0,   0,   0,  38, 230, 216,  20,   0,   0,   0,   0,   0,   0,   0,   0],\n",
              "       [  0,   0,   0,   0,   0,   0,   0,   0,   0,   0,   0,   0,   0,   0,   1,  71, 222, 254, 142,   0,   0,   0,   0,   0,   0,   0,   0,   0],\n",
              "       [  0,   0,   0,   0,   0,   0,   0,   0,   0,   0,   0,   0,   0,   0,  66, 254, 254, 157,   0,   0,   0,   0,   0,   0,   0,   0,   0,   0],\n",
              "       [  0,   0,   0,   0,   0,   0,   0,   0,   4,  34,  34,  78, 161, 226, 249, 254, 154,   6,   0,   0,   0,   0,   0,   0,   0,   0,   0,   0],\n",
              "       [  0,   0,   0,   0,   0,   0,   0,  96, 184, 254, 254, 254, 254, 254, 249,  93,   5,   0,   0,   0,   0,   0,   0,   0,   0,   0,   0,   0],\n",
              "       [  0,   0,   0,   0,   0,   0,   0,   0,   0,   0,   0,   0,   0,   0,   0,   0,   0,   0,   0,   0,   0,   0,   0,   0,   0,   0,   0,   0],\n",
              "       [  0,   0,   0,   0,   0,   0,   0,   0,   0,   0,   0,   0,   0,   0,   0,   0,   0,   0,   0,   0,   0,   0,   0,   0,   0,   0,   0,   0]], dtype=uint8)"
            ]
          },
          "metadata": {},
          "execution_count": 5
        }
      ]
    },
    {
      "cell_type": "markdown",
      "metadata": {
        "id": "LNJrJKUwvZMR"
      },
      "source": [
        "Alternatively, you can call `matplotlib.pyplot.imshow` to interpret the preceding numeric array as an image. "
      ]
    },
    {
      "cell_type": "code",
      "metadata": {
        "id": "siRC8a1hJvmq",
        "colab": {
          "base_uri": "https://localhost:8080/",
          "height": 282
        },
        "outputId": "e3528d1f-2b75-4b24-9134-469bd63012ba"
      },
      "source": [
        "# Use false colors to visualize the array.\n",
        "plt.imshow(x_train[2917])"
      ],
      "execution_count": 6,
      "outputs": [
        {
          "output_type": "execute_result",
          "data": {
            "text/plain": [
              "<matplotlib.image.AxesImage at 0x7f6e75cbf650>"
            ]
          },
          "metadata": {},
          "execution_count": 6
        },
        {
          "output_type": "display_data",
          "data": {
            "image/png": "[encoded data removed]",
            "text/plain": [
              "<Figure size 432x288 with 1 Axes>"
            ]
          },
          "metadata": {
            "needs_background": "light"
          }
        }
      ]
    },
    {
      "cell_type": "code",
      "metadata": {
        "id": "V-he9IcihDxb",
        "colab": {
          "base_uri": "https://localhost:8080/"
        },
        "outputId": "22de4c63-92e6-4312-b922-a508cf6fc2c4"
      },
      "source": [
        "# Output row #10 of example #2917.\n",
        "x_train[2917][10]"
      ],
      "execution_count": 7,
      "outputs": [
        {
          "output_type": "execute_result",
          "data": {
            "text/plain": [
              "array([  0,   0,   0,   0,   0,   0,   0,   0,   0,   0,   0,   0,   0,   0,   0,   0,  58, 254, 216,  11,   0,   0,   0,   0,   0,   0,   0,   0], dtype=uint8)"
            ]
          },
          "metadata": {},
          "execution_count": 7
        }
      ]
    },
    {
      "cell_type": "code",
      "metadata": {
        "id": "DUEWipalhQ8J",
        "colab": {
          "base_uri": "https://localhost:8080/"
        },
        "outputId": "3d7c4e3a-b349-454e-a00c-be0ea81178d8"
      },
      "source": [
        "# Output pixel #16 of row #10 of example #2900.\n",
        "x_train[2917][10][16]"
      ],
      "execution_count": 8,
      "outputs": [
        {
          "output_type": "execute_result",
          "data": {
            "text/plain": [
              "58"
            ]
          },
          "metadata": {},
          "execution_count": 8
        }
      ]
    },
    {
      "cell_type": "markdown",
      "metadata": {
        "id": "8ldP-5z1B2vL"
      },
      "source": [
        "## Task 1: Normalize feature values\n",
        "\n",
        "Complete the following code cell to map each feature value from its current representation (an integer between 0 and 255) to a floating-point value between 0 and 1.0. Store the floating-point values in `x_train_normalized` and `x_test_normalized`."
      ]
    },
    {
      "cell_type": "code",
      "metadata": {
        "id": "4YQljE-wizDw",
        "colab": {
          "base_uri": "https://localhost:8080/"
        },
        "outputId": "4a569dfc-bc1e-4512-ee1e-248946f72d19"
      },
      "source": [
        "x_train_normalized = x_train/255\n",
        "x_test_normalized = x_test/255 \n",
        "print(x_train_normalized[2900][10]) # Output a normalized row"
      ],
      "execution_count": 10,
      "outputs": [
        {
          "output_type": "stream",
          "name": "stdout",
          "text": [
            "[0.         0.         0.         0.         0.         0.         0.         0.55294118 1.         0.66666667 0.11372549 0.         0.         0.         0.         0.         0.         0.\n",
            " 0.         0.         0.         0.         0.         0.         0.         0.         0.         0.        ]\n"
          ]
        }
      ]
    },
    {
      "cell_type": "code",
      "metadata": {
        "id": "g8HC-TDgB1D1"
      },
      "source": [
        "#@title Double-click to see a solution to Task 1. \n",
        "\n",
        "x_train_normalized = x_train / 255.0\n",
        "x_test_normalized = x_test / 255.0\n",
        "print(x_train_normalized[2900][10]) # Output a normalized row"
      ],
      "execution_count": null,
      "outputs": []
    },
    {
      "cell_type": "markdown",
      "metadata": {
        "id": "ZBWRF6CStuNA"
      },
      "source": [
        "## Define a plotting function\n",
        "\n",
        "The following function plots an accuracy curve:"
      ]
    },
    {
      "cell_type": "code",
      "metadata": {
        "id": "QF0BFRXTOeR3",
        "colab": {
          "base_uri": "https://localhost:8080/"
        },
        "outputId": "f391709a-b771-4bfb-f116-e57124366e02"
      },
      "source": [
        "#@title Define the plotting function\n",
        "def plot_curve(epochs, hist, list_of_metrics):\n",
        "  \"\"\"Plot a curve of one or more classification metrics vs. epoch.\"\"\"  \n",
        "  # list_of_metrics should be one of the names shown in:\n",
        "  # https://www.tensorflow.org/tutorials/structured_data/imbalanced_data#define_the_model_and_metrics  \n",
        "\n",
        "  plt.figure()\n",
        "  plt.xlabel(\"Epoch\")\n",
        "  plt.ylabel(\"Value\")\n",
        "\n",
        "  for m in list_of_metrics:\n",
        "    x = hist[m]\n",
        "    plt.plot(epochs[1:], x[1:], label=m)\n",
        "\n",
        "  plt.legend()\n",
        "\n",
        "print(\"Loaded the plot_curve function.\")"
      ],
      "execution_count": 11,
      "outputs": [
        {
          "output_type": "stream",
          "name": "stdout",
          "text": [
            "Loaded the plot_curve function.\n"
          ]
        }
      ]
    },
    {
      "cell_type": "markdown",
      "metadata": {
        "id": "3014ezH3C7jT"
      },
      "source": [
        "## Create a deep neural net model\n",
        "\n",
        "The `create_model` function defines the topography of the deep neural net, specifying the following:\n",
        "\n",
        "* The number of [layers](https://developers.google.com/machine-learning/glossary/#layer) in the deep neural net.\n",
        "* The number of [nodes](https://developers.google.com/machine-learning/glossary/#node) in each layer.\n",
        "* Any [regularization](https://developers.google.com/machine-learning/glossary/#regularization) layers.\n",
        "\n",
        "The `create_model` function also defines the [activation function](https://developers.google.com/machine-learning/glossary/#activation_function) of each layer.  The activation function of the output layer is [softmax](https://developers.google.com/machine-learning/glossary/#softmax), which will yield 10 different outputs for each example. Each of the 10 outputs provides the probability that the input example is a certain digit.\n",
        "\n",
        "**Note:** Unlike several of the recent Colabs, this exercise does not define feature columns or a feature layer.  Instead, the model will train on the NumPy array."
      ]
    },
    {
      "cell_type": "code",
      "metadata": {
        "id": "pedD5GhlDC-y",
        "cellView": "both"
      },
      "source": [
        "def create_model(my_learning_rate):\n",
        "  \"\"\"Create and compile a deep neural net.\"\"\"\n",
        "  \n",
        "  # All models in this course are sequential.\n",
        "  model = tf.keras.models.Sequential()\n",
        "\n",
        "  # The features are stored in a two-dimensional 28X28 array. \n",
        "  # Flatten that two-dimensional array into a a one-dimensional \n",
        "  # 784-element array.\n",
        "  model.add(tf.keras.layers.Flatten(input_shape=(28, 28)))\n",
        "\n",
        "  # Define the first hidden layer.   \n",
        "  model.add(tf.keras.layers.Dense(units=32, activation='relu'))\n",
        "  \n",
        "  # Define a dropout regularization layer. \n",
        "  model.add(tf.keras.layers.Dropout(rate=0.2))\n",
        "\n",
        "  # Define the output layer. The units parameter is set to 10 because\n",
        "  # the model must choose among 10 possible output values (representing\n",
        "  # the digits from 0 to 9, inclusive).\n",
        "  #\n",
        "  # Don't change this layer.\n",
        "  model.add(tf.keras.layers.Dense(units=10, activation='softmax'))     \n",
        "                           \n",
        "  # Construct the layers into a model that TensorFlow can execute.  \n",
        "  # Notice that the loss function for multi-class classification\n",
        "  # is different than the loss function for binary classification.  \n",
        "  model.compile(optimizer=tf.keras.optimizers.Adam(lr=my_learning_rate),\n",
        "                loss=\"sparse_categorical_crossentropy\",\n",
        "                metrics=['accuracy'])\n",
        "  \n",
        "  return model    \n",
        "\n",
        "\n",
        "def train_model(model, train_features, train_label, epochs,\n",
        "                batch_size=None, validation_split=0.1):\n",
        "  \"\"\"Train the model by feeding it data.\"\"\"\n",
        "\n",
        "  history = model.fit(x=train_features, y=train_label, batch_size=batch_size,\n",
        "                      epochs=epochs, shuffle=True, \n",
        "                      validation_split=validation_split)\n",
        " \n",
        "  # To track the progression of training, gather a snapshot\n",
        "  # of the model's metrics at each epoch. \n",
        "  epochs = history.epoch\n",
        "  hist = pd.DataFrame(history.history)\n",
        "\n",
        "  return epochs, hist    "
      ],
      "execution_count": 12,
      "outputs": []
    },
    {
      "cell_type": "markdown",
      "metadata": {
        "id": "D-IXYVfvM4gD"
      },
      "source": [
        "## Invoke the previous functions\n",
        "\n",
        "Run the following code cell to invoke the preceding functions and actually train the model on the training set. \n",
        "\n",
        "**Note:** Due to several factors (for example, more examples and a more complex neural network) training MNIST might take longer than training the California Housing Dataset. Be patient."
      ]
    },
    {
      "cell_type": "code",
      "metadata": {
        "id": "nj3v5EKQFY8s",
        "cellView": "both",
        "colab": {
          "base_uri": "https://localhost:8080/",
          "height": 1000
        },
        "outputId": "72b04fc9-576c-4df4-be10-c823972208fb"
      },
      "source": [
        "# The following variables are the hyperparameters.\n",
        "learning_rate = 0.003\n",
        "epochs = 50\n",
        "batch_size = 4000\n",
        "validation_split = 0.2\n",
        "\n",
        "# Establish the model's topography.\n",
        "my_model = create_model(learning_rate)\n",
        "\n",
        "# Train the model on the normalized training set.\n",
        "epochs, hist = train_model(my_model, x_train_normalized, y_train, \n",
        "                           epochs, batch_size, validation_split)\n",
        "\n",
        "# Plot a graph of the metric vs. epochs.\n",
        "list_of_metrics_to_plot = ['accuracy']\n",
        "plot_curve(epochs, hist, list_of_metrics_to_plot)\n",
        "\n",
        "# Evaluate against the test set.\n",
        "print(\"\\n Evaluate the new model against the test set:\")\n",
        "my_model.evaluate(x=x_test_normalized, y=y_test, batch_size=batch_size)"
      ],
      "execution_count": 13,
      "outputs": [
        {
          "output_type": "stream",
          "name": "stderr",
          "text": [
            "/usr/local/lib/python3.7/dist-packages/keras/optimizer_v2/optimizer_v2.py:356: UserWarning: The `lr` argument is deprecated, use `learning_rate` instead.\n",
            "  \"The `lr` argument is deprecated, use `learning_rate` instead.\")\n"
          ]
        },
        {
          "output_type": "stream",
          "name": "stdout",
          "text": [
            "Epoch 1/50\n",
            "12/12 [==============================] - 1s 38ms/step - loss: 1.6446 - accuracy: 0.4780 - val_loss: 0.8802 - val_accuracy: 0.8029\n",
            "Epoch 2/50\n",
            "12/12 [==============================] - 0s 23ms/step - loss: 0.8270 - accuracy: 0.7559 - val_loss: 0.4840 - val_accuracy: 0.8773\n",
            "Epoch 3/50\n",
            "12/12 [==============================] - 0s 24ms/step - loss: 0.5887 - accuracy: 0.8242 - val_loss: 0.3867 - val_accuracy: 0.8993\n",
            "Epoch 4/50\n",
            "12/12 [==============================] - 0s 23ms/step - loss: 0.4909 - accuracy: 0.8568 - val_loss: 0.3384 - val_accuracy: 0.9084\n",
            "Epoch 5/50\n",
            "12/12 [==============================] - 0s 25ms/step - loss: 0.4408 - accuracy: 0.8718 - val_loss: 0.3097 - val_accuracy: 0.9146\n",
            "Epoch 6/50\n",
            "12/12 [==============================] - 0s 23ms/step - loss: 0.4075 - accuracy: 0.8812 - val_loss: 0.2902 - val_accuracy: 0.9187\n",
            "Epoch 7/50\n",
            "12/12 [==============================] - 0s 24ms/step - loss: 0.3819 - accuracy: 0.8885 - val_loss: 0.2739 - val_accuracy: 0.9240\n",
            "Epoch 8/50\n",
            "12/12 [==============================] - 0s 23ms/step - loss: 0.3636 - accuracy: 0.8943 - val_loss: 0.2632 - val_accuracy: 0.9263\n",
            "Epoch 9/50\n",
            "12/12 [==============================] - 0s 24ms/step - loss: 0.3465 - accuracy: 0.8987 - val_loss: 0.2516 - val_accuracy: 0.9293\n",
            "Epoch 10/50\n",
            "12/12 [==============================] - 0s 23ms/step - loss: 0.3333 - accuracy: 0.9023 - val_loss: 0.2422 - val_accuracy: 0.9322\n",
            "Epoch 11/50\n",
            "12/12 [==============================] - 0s 24ms/step - loss: 0.3214 - accuracy: 0.9048 - val_loss: 0.2335 - val_accuracy: 0.9348\n",
            "Epoch 12/50\n",
            "12/12 [==============================] - 0s 25ms/step - loss: 0.3111 - accuracy: 0.9084 - val_loss: 0.2273 - val_accuracy: 0.9362\n",
            "Epoch 13/50\n",
            "12/12 [==============================] - 0s 23ms/step - loss: 0.2989 - accuracy: 0.9122 - val_loss: 0.2201 - val_accuracy: 0.9376\n",
            "Epoch 14/50\n",
            "12/12 [==============================] - 0s 23ms/step - loss: 0.2932 - accuracy: 0.9138 - val_loss: 0.2150 - val_accuracy: 0.9396\n",
            "Epoch 15/50\n",
            "12/12 [==============================] - 0s 24ms/step - loss: 0.2860 - accuracy: 0.9162 - val_loss: 0.2103 - val_accuracy: 0.9406\n",
            "Epoch 16/50\n",
            "12/12 [==============================] - 0s 27ms/step - loss: 0.2795 - accuracy: 0.9175 - val_loss: 0.2042 - val_accuracy: 0.9425\n",
            "Epoch 17/50\n",
            "12/12 [==============================] - 0s 23ms/step - loss: 0.2732 - accuracy: 0.9200 - val_loss: 0.2021 - val_accuracy: 0.9433\n",
            "Epoch 18/50\n",
            "12/12 [==============================] - 0s 23ms/step - loss: 0.2667 - accuracy: 0.9203 - val_loss: 0.1971 - val_accuracy: 0.9440\n",
            "Epoch 19/50\n",
            "12/12 [==============================] - 0s 24ms/step - loss: 0.2591 - accuracy: 0.9242 - val_loss: 0.1939 - val_accuracy: 0.9452\n",
            "Epoch 20/50\n",
            "12/12 [==============================] - 0s 23ms/step - loss: 0.2556 - accuracy: 0.9243 - val_loss: 0.1887 - val_accuracy: 0.9463\n",
            "Epoch 21/50\n",
            "12/12 [==============================] - 0s 24ms/step - loss: 0.2521 - accuracy: 0.9251 - val_loss: 0.1865 - val_accuracy: 0.9470\n",
            "Epoch 22/50\n",
            "12/12 [==============================] - 0s 23ms/step - loss: 0.2460 - accuracy: 0.9264 - val_loss: 0.1829 - val_accuracy: 0.9484\n",
            "Epoch 23/50\n",
            "12/12 [==============================] - 0s 24ms/step - loss: 0.2411 - accuracy: 0.9272 - val_loss: 0.1806 - val_accuracy: 0.9491\n",
            "Epoch 24/50\n",
            "12/12 [==============================] - 0s 24ms/step - loss: 0.2384 - accuracy: 0.9287 - val_loss: 0.1780 - val_accuracy: 0.9498\n",
            "Epoch 25/50\n",
            "12/12 [==============================] - 0s 23ms/step - loss: 0.2341 - accuracy: 0.9307 - val_loss: 0.1752 - val_accuracy: 0.9506\n",
            "Epoch 26/50\n",
            "12/12 [==============================] - 0s 24ms/step - loss: 0.2318 - accuracy: 0.9318 - val_loss: 0.1733 - val_accuracy: 0.9500\n",
            "Epoch 27/50\n",
            "12/12 [==============================] - 0s 23ms/step - loss: 0.2297 - accuracy: 0.9324 - val_loss: 0.1722 - val_accuracy: 0.9508\n",
            "Epoch 28/50\n",
            "12/12 [==============================] - 0s 23ms/step - loss: 0.2252 - accuracy: 0.9327 - val_loss: 0.1688 - val_accuracy: 0.9527\n",
            "Epoch 29/50\n",
            "12/12 [==============================] - 0s 23ms/step - loss: 0.2229 - accuracy: 0.9327 - val_loss: 0.1688 - val_accuracy: 0.9517\n",
            "Epoch 30/50\n",
            "12/12 [==============================] - 0s 24ms/step - loss: 0.2221 - accuracy: 0.9341 - val_loss: 0.1667 - val_accuracy: 0.9520\n",
            "Epoch 31/50\n",
            "12/12 [==============================] - 0s 23ms/step - loss: 0.2165 - accuracy: 0.9348 - val_loss: 0.1633 - val_accuracy: 0.9538\n",
            "Epoch 32/50\n",
            "12/12 [==============================] - 0s 23ms/step - loss: 0.2127 - accuracy: 0.9360 - val_loss: 0.1628 - val_accuracy: 0.9536\n",
            "Epoch 33/50\n",
            "12/12 [==============================] - 0s 25ms/step - loss: 0.2126 - accuracy: 0.9364 - val_loss: 0.1612 - val_accuracy: 0.9538\n",
            "Epoch 34/50\n",
            "12/12 [==============================] - 0s 23ms/step - loss: 0.2088 - accuracy: 0.9371 - val_loss: 0.1592 - val_accuracy: 0.9546\n",
            "Epoch 35/50\n",
            "12/12 [==============================] - 0s 23ms/step - loss: 0.2073 - accuracy: 0.9379 - val_loss: 0.1583 - val_accuracy: 0.9549\n",
            "Epoch 36/50\n",
            "12/12 [==============================] - 0s 23ms/step - loss: 0.2059 - accuracy: 0.9381 - val_loss: 0.1578 - val_accuracy: 0.9551\n",
            "Epoch 37/50\n",
            "12/12 [==============================] - 0s 24ms/step - loss: 0.2043 - accuracy: 0.9390 - val_loss: 0.1559 - val_accuracy: 0.9557\n",
            "Epoch 38/50\n",
            "12/12 [==============================] - 0s 27ms/step - loss: 0.2022 - accuracy: 0.9401 - val_loss: 0.1555 - val_accuracy: 0.9561\n",
            "Epoch 39/50\n",
            "12/12 [==============================] - 0s 24ms/step - loss: 0.1985 - accuracy: 0.9409 - val_loss: 0.1539 - val_accuracy: 0.9549\n",
            "Epoch 40/50\n",
            "12/12 [==============================] - 0s 24ms/step - loss: 0.1990 - accuracy: 0.9396 - val_loss: 0.1512 - val_accuracy: 0.9565\n",
            "Epoch 41/50\n",
            "12/12 [==============================] - 0s 24ms/step - loss: 0.1970 - accuracy: 0.9408 - val_loss: 0.1507 - val_accuracy: 0.9570\n",
            "Epoch 42/50\n",
            "12/12 [==============================] - 0s 24ms/step - loss: 0.1917 - accuracy: 0.9419 - val_loss: 0.1493 - val_accuracy: 0.9575\n",
            "Epoch 43/50\n",
            "12/12 [==============================] - 0s 23ms/step - loss: 0.1935 - accuracy: 0.9417 - val_loss: 0.1495 - val_accuracy: 0.9573\n",
            "Epoch 44/50\n",
            "12/12 [==============================] - 0s 24ms/step - loss: 0.1901 - accuracy: 0.9426 - val_loss: 0.1488 - val_accuracy: 0.9567\n",
            "Epoch 45/50\n",
            "12/12 [==============================] - 0s 24ms/step - loss: 0.1902 - accuracy: 0.9435 - val_loss: 0.1480 - val_accuracy: 0.9579\n",
            "Epoch 46/50\n",
            "12/12 [==============================] - 0s 23ms/step - loss: 0.1887 - accuracy: 0.9427 - val_loss: 0.1478 - val_accuracy: 0.9572\n",
            "Epoch 47/50\n",
            "12/12 [==============================] - 0s 24ms/step - loss: 0.1852 - accuracy: 0.9440 - val_loss: 0.1473 - val_accuracy: 0.9572\n",
            "Epoch 48/50\n",
            "12/12 [==============================] - 0s 25ms/step - loss: 0.1853 - accuracy: 0.9427 - val_loss: 0.1454 - val_accuracy: 0.9582\n",
            "Epoch 49/50\n",
            "12/12 [==============================] - 0s 23ms/step - loss: 0.1825 - accuracy: 0.9446 - val_loss: 0.1455 - val_accuracy: 0.9582\n",
            "Epoch 50/50\n",
            "12/12 [==============================] - 0s 23ms/step - loss: 0.1813 - accuracy: 0.9441 - val_loss: 0.1442 - val_accuracy: 0.9590\n",
            "\n",
            " Evaluate the new model against the test set:\n",
            "3/3 [==============================] - 0s 11ms/step - loss: 0.1468 - accuracy: 0.9582\n"
          ]
        },
        {
          "output_type": "execute_result",
          "data": {
            "text/plain": [
              "[0.14675681293010712, 0.9581999778747559]"
            ]
          },
          "metadata": {},
          "execution_count": 13
        },
        {
          "output_type": "display_data",
          "data": {
            "image/png": "[encoded data removed]",
            "text/plain": [
              "<Figure size 432x288 with 1 Axes>"
            ]
          },
          "metadata": {
            "needs_background": "light"
          }
        }
      ]
    },
    {
      "cell_type": "markdown",
      "metadata": {
        "id": "Y5IKmk7D49_n"
      },
      "source": [
        "## Task 2: Optimize the model\n",
        "\n",
        "Experiment with the following:\n",
        "\n",
        "* number of hidden layers \n",
        "* number of nodes in each layer\n",
        "* dropout regularization rate\n",
        "\n",
        "What trends did you discover?  Can you reach at least 98% accuracy against the test set? \n",
        "\n",
        "\n"
      ]
    },
    {
      "cell_type": "code",
      "metadata": {
        "id": "-Ucdi6Z4aMsM"
      },
      "source": [
        "def create_model_2(my_learning_rate):\n",
        "  \"\"\"Create and compile a deep neural net.\"\"\"\n",
        "  \n",
        "  # All models in this course are sequential.\n",
        "  model = tf.keras.models.Sequential()\n",
        "\n",
        "  # The features are stored in a two-dimensional 28X28 array. \n",
        "  # Flatten that two-dimensional array into a a one-dimensional \n",
        "  # 784-element array.\n",
        "  model.add(tf.keras.layers.Flatten(input_shape=(28, 28)))\n",
        "\n",
        "  # Define the first hidden layer.   \n",
        "  model.add(tf.keras.layers.Dense(units=256, activation='relu'))\n",
        "  \n",
        "  # Define a dropout regularization layer. \n",
        "  model.add(tf.keras.layers.Dropout(rate=0.4))\n",
        "\n",
        "  # Define the output layer. The units parameter is set to 10 because\n",
        "  # the model must choose among 10 possible output values (representing\n",
        "  # the digits from 0 to 9, inclusive).\n",
        "  #\n",
        "  # Don't change this layer.\n",
        "  model.add(tf.keras.layers.Dense(units=10, activation='softmax'))     \n",
        "                           \n",
        "  # Construct the layers into a model that TensorFlow can execute.  \n",
        "  # Notice that the loss function for multi-class classification\n",
        "  # is different than the loss function for binary classification.  \n",
        "  model.compile(optimizer=tf.keras.optimizers.Adam(lr=my_learning_rate),\n",
        "                loss=\"sparse_categorical_crossentropy\",\n",
        "                metrics=['accuracy'])\n",
        "  \n",
        "  return model    "
      ],
      "execution_count": 14,
      "outputs": []
    },
    {
      "cell_type": "code",
      "metadata": {
        "colab": {
          "base_uri": "https://localhost:8080/",
          "height": 1000
        },
        "id": "eTyp3-tmaX7K",
        "outputId": "c4d607ca-eba0-4c91-b26f-cb7a00f909ac"
      },
      "source": [
        "# The following variables are the hyperparameters.\n",
        "learning_rate = 0.003\n",
        "epochs = 50\n",
        "batch_size = 4000\n",
        "validation_split = 0.2\n",
        "\n",
        "# Establish the model's topography.\n",
        "my_model = create_model_2(learning_rate)\n",
        "\n",
        "# Train the model on the normalized training set.\n",
        "epochs, hist = train_model(my_model, x_train_normalized, y_train, \n",
        "                           epochs, batch_size, validation_split)\n",
        "\n",
        "# Plot a graph of the metric vs. epochs.\n",
        "list_of_metrics_to_plot = ['accuracy']\n",
        "plot_curve(epochs, hist, list_of_metrics_to_plot)\n",
        "\n",
        "# Evaluate against the test set.\n",
        "print(\"\\n Evaluate the new model against the test set:\")\n",
        "my_model.evaluate(x=x_test_normalized, y=y_test, batch_size=batch_size)"
      ],
      "execution_count": 15,
      "outputs": [
        {
          "output_type": "stream",
          "name": "stderr",
          "text": [
            "/usr/local/lib/python3.7/dist-packages/keras/optimizer_v2/optimizer_v2.py:356: UserWarning: The `lr` argument is deprecated, use `learning_rate` instead.\n",
            "  \"The `lr` argument is deprecated, use `learning_rate` instead.\")\n"
          ]
        },
        {
          "output_type": "stream",
          "name": "stdout",
          "text": [
            "Epoch 1/50\n",
            "12/12 [==============================] - 1s 96ms/step - loss: 1.0604 - accuracy: 0.6764 - val_loss: 0.3778 - val_accuracy: 0.8894\n",
            "Epoch 2/50\n",
            "12/12 [==============================] - 1s 83ms/step - loss: 0.4223 - accuracy: 0.8715 - val_loss: 0.2818 - val_accuracy: 0.9197\n",
            "Epoch 3/50\n",
            "12/12 [==============================] - 1s 83ms/step - loss: 0.3177 - accuracy: 0.9073 - val_loss: 0.2371 - val_accuracy: 0.9334\n",
            "Epoch 4/50\n",
            "12/12 [==============================] - 1s 83ms/step - loss: 0.2651 - accuracy: 0.9235 - val_loss: 0.2033 - val_accuracy: 0.9423\n",
            "Epoch 5/50\n",
            "12/12 [==============================] - 1s 82ms/step - loss: 0.2294 - accuracy: 0.9322 - val_loss: 0.1800 - val_accuracy: 0.9497\n",
            "Epoch 6/50\n",
            "12/12 [==============================] - 1s 83ms/step - loss: 0.2033 - accuracy: 0.9416 - val_loss: 0.1637 - val_accuracy: 0.9538\n",
            "Epoch 7/50\n",
            "12/12 [==============================] - 1s 82ms/step - loss: 0.1831 - accuracy: 0.9476 - val_loss: 0.1520 - val_accuracy: 0.9561\n",
            "Epoch 8/50\n",
            "12/12 [==============================] - 1s 85ms/step - loss: 0.1678 - accuracy: 0.9510 - val_loss: 0.1412 - val_accuracy: 0.9601\n",
            "Epoch 9/50\n",
            "12/12 [==============================] - 1s 83ms/step - loss: 0.1579 - accuracy: 0.9536 - val_loss: 0.1317 - val_accuracy: 0.9624\n",
            "Epoch 10/50\n",
            "12/12 [==============================] - 1s 82ms/step - loss: 0.1461 - accuracy: 0.9580 - val_loss: 0.1269 - val_accuracy: 0.9632\n",
            "Epoch 11/50\n",
            "12/12 [==============================] - 1s 82ms/step - loss: 0.1351 - accuracy: 0.9611 - val_loss: 0.1196 - val_accuracy: 0.9649\n",
            "Epoch 12/50\n",
            "12/12 [==============================] - 1s 83ms/step - loss: 0.1246 - accuracy: 0.9630 - val_loss: 0.1151 - val_accuracy: 0.9662\n",
            "Epoch 13/50\n",
            "12/12 [==============================] - 1s 82ms/step - loss: 0.1197 - accuracy: 0.9640 - val_loss: 0.1111 - val_accuracy: 0.9668\n",
            "Epoch 14/50\n",
            "12/12 [==============================] - 1s 84ms/step - loss: 0.1124 - accuracy: 0.9672 - val_loss: 0.1056 - val_accuracy: 0.9689\n",
            "Epoch 15/50\n",
            "12/12 [==============================] - 1s 83ms/step - loss: 0.1056 - accuracy: 0.9690 - val_loss: 0.1016 - val_accuracy: 0.9693\n",
            "Epoch 16/50\n",
            "12/12 [==============================] - 1s 82ms/step - loss: 0.0976 - accuracy: 0.9715 - val_loss: 0.1004 - val_accuracy: 0.9698\n",
            "Epoch 17/50\n",
            "12/12 [==============================] - 1s 83ms/step - loss: 0.0950 - accuracy: 0.9725 - val_loss: 0.0968 - val_accuracy: 0.9703\n",
            "Epoch 18/50\n",
            "12/12 [==============================] - 1s 84ms/step - loss: 0.0909 - accuracy: 0.9731 - val_loss: 0.0963 - val_accuracy: 0.9701\n",
            "Epoch 19/50\n",
            "12/12 [==============================] - 1s 84ms/step - loss: 0.0881 - accuracy: 0.9745 - val_loss: 0.0925 - val_accuracy: 0.9727\n",
            "Epoch 20/50\n",
            "12/12 [==============================] - 1s 84ms/step - loss: 0.0825 - accuracy: 0.9759 - val_loss: 0.0905 - val_accuracy: 0.9720\n",
            "Epoch 21/50\n",
            "12/12 [==============================] - 1s 83ms/step - loss: 0.0783 - accuracy: 0.9770 - val_loss: 0.0883 - val_accuracy: 0.9738\n",
            "Epoch 22/50\n",
            "12/12 [==============================] - 1s 82ms/step - loss: 0.0770 - accuracy: 0.9766 - val_loss: 0.0873 - val_accuracy: 0.9745\n",
            "Epoch 23/50\n",
            "12/12 [==============================] - 1s 83ms/step - loss: 0.0722 - accuracy: 0.9794 - val_loss: 0.0858 - val_accuracy: 0.9743\n",
            "Epoch 24/50\n",
            "12/12 [==============================] - 1s 83ms/step - loss: 0.0680 - accuracy: 0.9798 - val_loss: 0.0839 - val_accuracy: 0.9745\n",
            "Epoch 25/50\n",
            "12/12 [==============================] - 1s 83ms/step - loss: 0.0670 - accuracy: 0.9797 - val_loss: 0.0840 - val_accuracy: 0.9747\n",
            "Epoch 26/50\n",
            "12/12 [==============================] - 1s 83ms/step - loss: 0.0620 - accuracy: 0.9818 - val_loss: 0.0822 - val_accuracy: 0.9756\n",
            "Epoch 27/50\n",
            "12/12 [==============================] - 1s 83ms/step - loss: 0.0620 - accuracy: 0.9816 - val_loss: 0.0810 - val_accuracy: 0.9763\n",
            "Epoch 28/50\n",
            "12/12 [==============================] - 1s 83ms/step - loss: 0.0580 - accuracy: 0.9832 - val_loss: 0.0819 - val_accuracy: 0.9759\n",
            "Epoch 29/50\n",
            "12/12 [==============================] - 1s 85ms/step - loss: 0.0600 - accuracy: 0.9824 - val_loss: 0.0786 - val_accuracy: 0.9772\n",
            "Epoch 30/50\n",
            "12/12 [==============================] - 1s 83ms/step - loss: 0.0536 - accuracy: 0.9845 - val_loss: 0.0787 - val_accuracy: 0.9768\n",
            "Epoch 31/50\n",
            "12/12 [==============================] - 1s 83ms/step - loss: 0.0535 - accuracy: 0.9839 - val_loss: 0.0781 - val_accuracy: 0.9765\n",
            "Epoch 32/50\n",
            "12/12 [==============================] - 1s 82ms/step - loss: 0.0517 - accuracy: 0.9846 - val_loss: 0.0792 - val_accuracy: 0.9766\n",
            "Epoch 33/50\n",
            "12/12 [==============================] - 1s 85ms/step - loss: 0.0505 - accuracy: 0.9860 - val_loss: 0.0769 - val_accuracy: 0.9770\n",
            "Epoch 34/50\n",
            "12/12 [==============================] - 1s 83ms/step - loss: 0.0474 - accuracy: 0.9864 - val_loss: 0.0778 - val_accuracy: 0.9779\n",
            "Epoch 35/50\n",
            "12/12 [==============================] - 1s 84ms/step - loss: 0.0465 - accuracy: 0.9864 - val_loss: 0.0766 - val_accuracy: 0.9777\n",
            "Epoch 36/50\n",
            "12/12 [==============================] - 1s 84ms/step - loss: 0.0450 - accuracy: 0.9870 - val_loss: 0.0759 - val_accuracy: 0.9783\n",
            "Epoch 37/50\n",
            "12/12 [==============================] - 1s 83ms/step - loss: 0.0431 - accuracy: 0.9872 - val_loss: 0.0751 - val_accuracy: 0.9779\n",
            "Epoch 38/50\n",
            "12/12 [==============================] - 1s 83ms/step - loss: 0.0418 - accuracy: 0.9872 - val_loss: 0.0746 - val_accuracy: 0.9783\n",
            "Epoch 39/50\n",
            "12/12 [==============================] - 1s 85ms/step - loss: 0.0412 - accuracy: 0.9883 - val_loss: 0.0730 - val_accuracy: 0.9781\n",
            "Epoch 40/50\n",
            "12/12 [==============================] - 1s 83ms/step - loss: 0.0398 - accuracy: 0.9881 - val_loss: 0.0743 - val_accuracy: 0.9787\n",
            "Epoch 41/50\n",
            "12/12 [==============================] - 1s 83ms/step - loss: 0.0370 - accuracy: 0.9887 - val_loss: 0.0738 - val_accuracy: 0.9786\n",
            "Epoch 42/50\n",
            "12/12 [==============================] - 1s 83ms/step - loss: 0.0368 - accuracy: 0.9892 - val_loss: 0.0742 - val_accuracy: 0.9777\n",
            "Epoch 43/50\n",
            "12/12 [==============================] - 1s 84ms/step - loss: 0.0377 - accuracy: 0.9887 - val_loss: 0.0743 - val_accuracy: 0.9781\n",
            "Epoch 44/50\n",
            "12/12 [==============================] - 1s 83ms/step - loss: 0.0346 - accuracy: 0.9892 - val_loss: 0.0729 - val_accuracy: 0.9787\n",
            "Epoch 45/50\n",
            "12/12 [==============================] - 1s 84ms/step - loss: 0.0353 - accuracy: 0.9893 - val_loss: 0.0723 - val_accuracy: 0.9780\n",
            "Epoch 46/50\n",
            "12/12 [==============================] - 1s 82ms/step - loss: 0.0338 - accuracy: 0.9898 - val_loss: 0.0732 - val_accuracy: 0.9796\n",
            "Epoch 47/50\n",
            "12/12 [==============================] - 1s 84ms/step - loss: 0.0328 - accuracy: 0.9900 - val_loss: 0.0724 - val_accuracy: 0.9792\n",
            "Epoch 48/50\n",
            "12/12 [==============================] - 1s 85ms/step - loss: 0.0316 - accuracy: 0.9908 - val_loss: 0.0734 - val_accuracy: 0.9785\n",
            "Epoch 49/50\n",
            "12/12 [==============================] - 1s 84ms/step - loss: 0.0319 - accuracy: 0.9904 - val_loss: 0.0731 - val_accuracy: 0.9791\n",
            "Epoch 50/50\n",
            "12/12 [==============================] - 1s 86ms/step - loss: 0.0298 - accuracy: 0.9909 - val_loss: 0.0727 - val_accuracy: 0.9799\n",
            "\n",
            " Evaluate the new model against the test set:\n",
            "3/3 [==============================] - 0s 23ms/step - loss: 0.0671 - accuracy: 0.9787\n"
          ]
        },
        {
          "output_type": "execute_result",
          "data": {
            "text/plain": [
              "[0.06706134974956512, 0.9786999821662903]"
            ]
          },
          "metadata": {},
          "execution_count": 15
        },
        {
          "output_type": "display_data",
          "data": {
            "image/png": "[encoded data removed]",
            "text/plain": [
              "<Figure size 432x288 with 1 Axes>"
            ]
          },
          "metadata": {
            "needs_background": "light"
          }
        }
      ]
    },
    {
      "cell_type": "code",
      "metadata": {
        "id": "wYG5qXpP5a9n"
      },
      "source": [
        "#@title Double-click to view some possible answers.\n",
        "\n",
        "# It would take much too long to experiment \n",
        "# fully with topography and dropout regularization \n",
        "# rate. In the real world, you would\n",
        "# also experiment with learning rate, batch size, \n",
        "# and number of epochs.  Since you only have a \n",
        "# few minutes, searching for trends can be helpful.\n",
        "# Here is what we discovered:\n",
        "#   * Adding more nodes (at least until 256 nodes) \n",
        "#     to the first hidden layer improved accuracy.\n",
        "#   * Adding a second hidden layer generally \n",
        "#     improved accuracy.\n",
        "#   * When the model contains a lot of nodes, \n",
        "#     the model overfits unless the dropout rate \n",
        "#     is at least 0.5. \n",
        "\n",
        "# We reached 98% test accuracy with the \n",
        "# following configuration:\n",
        "#   * One hidden layer of 256 nodes; no second \n",
        "#     hidden layer.\n",
        "#   * dropout regularization rate of 0.4\n",
        "\n",
        "# We reached 98.2% test accuracy with the \n",
        "# following configuration:\n",
        "#   * First hidden layer of 256 nodes; \n",
        "#     second hidden layer of 128 nodes.\n",
        "#   * dropout regularization rate of 0.2\n"
      ],
      "execution_count": null,
      "outputs": []
    },
    {
      "cell_type": "code",
      "metadata": {
        "id": "CYKzRFGgbqYU"
      },
      "source": [
        "def create_model_3(my_learning_rate):\n",
        "  \"\"\"Create and compile a deep neural net.\"\"\"\n",
        "  \n",
        "  # All models in this course are sequential.\n",
        "  model = tf.keras.models.Sequential()\n",
        "\n",
        "  # The features are stored in a two-dimensional 28X28 array. \n",
        "  # Flatten that two-dimensional array into a a one-dimensional \n",
        "  # 784-element array.\n",
        "  model.add(tf.keras.layers.Flatten(input_shape=(28, 28)))\n",
        "\n",
        "  # Define the first hidden layer.   \n",
        "  model.add(tf.keras.layers.Dense(units=256, activation='relu'))\n",
        "  \n",
        "  # Define a dropout regularization layer. \n",
        "  model.add(tf.keras.layers.Dropout(rate=0.4))\n",
        "\n",
        "    # Define the first hidden layer.   \n",
        "  model.add(tf.keras.layers.Dense(units=128, activation='relu'))\n",
        "  \n",
        "  # Define a dropout regularization layer. \n",
        "  model.add(tf.keras.layers.Dropout(rate=0.4))\n",
        "\n",
        "  # Define the output layer. The units parameter is set to 10 because\n",
        "  # the model must choose among 10 possible output values (representing\n",
        "  # the digits from 0 to 9, inclusive).\n",
        "  #\n",
        "  # Don't change this layer.\n",
        "  model.add(tf.keras.layers.Dense(units=10, activation='softmax'))     \n",
        "                           \n",
        "  # Construct the layers into a model that TensorFlow can execute.  \n",
        "  # Notice that the loss function for multi-class classification\n",
        "  # is different than the loss function for binary classification.  \n",
        "  model.compile(optimizer=tf.keras.optimizers.Adam(lr=my_learning_rate),\n",
        "                loss=\"sparse_categorical_crossentropy\",\n",
        "                metrics=['accuracy'])\n",
        "  \n",
        "  return model    "
      ],
      "execution_count": 16,
      "outputs": []
    },
    {
      "cell_type": "code",
      "metadata": {
        "colab": {
          "base_uri": "https://localhost:8080/",
          "height": 1000
        },
        "id": "pAFIjEOobnrT",
        "outputId": "f7581a42-6b9f-4f50-cd8f-c6a38c5c5be8"
      },
      "source": [
        "# The following variables are the hyperparameters.\n",
        "learning_rate = 0.003\n",
        "epochs = 50\n",
        "batch_size = 4000\n",
        "validation_split = 0.2\n",
        "\n",
        "# Establish the model's topography.\n",
        "my_model = create_model_3(learning_rate)\n",
        "\n",
        "# Train the model on the normalized training set.\n",
        "epochs, hist = train_model(my_model, x_train_normalized, y_train, \n",
        "                           epochs, batch_size, validation_split)\n",
        "\n",
        "# Plot a graph of the metric vs. epochs.\n",
        "list_of_metrics_to_plot = ['accuracy']\n",
        "plot_curve(epochs, hist, list_of_metrics_to_plot)\n",
        "\n",
        "# Evaluate against the test set.\n",
        "print(\"\\n Evaluate the new model against the test set:\")\n",
        "my_model.evaluate(x=x_test_normalized, y=y_test, batch_size=batch_size)"
      ],
      "execution_count": 17,
      "outputs": [
        {
          "output_type": "stream",
          "name": "stderr",
          "text": [
            "/usr/local/lib/python3.7/dist-packages/keras/optimizer_v2/optimizer_v2.py:356: UserWarning: The `lr` argument is deprecated, use `learning_rate` instead.\n",
            "  \"The `lr` argument is deprecated, use `learning_rate` instead.\")\n"
          ]
        },
        {
          "output_type": "stream",
          "name": "stdout",
          "text": [
            "Epoch 1/50\n",
            "12/12 [==============================] - 2s 115ms/step - loss: 1.2230 - accuracy: 0.6010 - val_loss: 0.3779 - val_accuracy: 0.8927\n",
            "Epoch 2/50\n",
            "12/12 [==============================] - 1s 103ms/step - loss: 0.4656 - accuracy: 0.8592 - val_loss: 0.2548 - val_accuracy: 0.9251\n",
            "Epoch 3/50\n",
            "12/12 [==============================] - 1s 103ms/step - loss: 0.3300 - accuracy: 0.9036 - val_loss: 0.2009 - val_accuracy: 0.9402\n",
            "Epoch 4/50\n",
            "12/12 [==============================] - 1s 103ms/step - loss: 0.2645 - accuracy: 0.9227 - val_loss: 0.1680 - val_accuracy: 0.9503\n",
            "Epoch 5/50\n",
            "12/12 [==============================] - 1s 104ms/step - loss: 0.2215 - accuracy: 0.9358 - val_loss: 0.1459 - val_accuracy: 0.9571\n",
            "Epoch 6/50\n",
            "12/12 [==============================] - 1s 104ms/step - loss: 0.1944 - accuracy: 0.9430 - val_loss: 0.1324 - val_accuracy: 0.9606\n",
            "Epoch 7/50\n",
            "12/12 [==============================] - 1s 102ms/step - loss: 0.1740 - accuracy: 0.9484 - val_loss: 0.1228 - val_accuracy: 0.9632\n",
            "Epoch 8/50\n",
            "12/12 [==============================] - 1s 103ms/step - loss: 0.1590 - accuracy: 0.9531 - val_loss: 0.1145 - val_accuracy: 0.9658\n",
            "Epoch 9/50\n",
            "12/12 [==============================] - 1s 102ms/step - loss: 0.1450 - accuracy: 0.9568 - val_loss: 0.1083 - val_accuracy: 0.9682\n",
            "Epoch 10/50\n",
            "12/12 [==============================] - 1s 102ms/step - loss: 0.1336 - accuracy: 0.9602 - val_loss: 0.1055 - val_accuracy: 0.9697\n",
            "Epoch 11/50\n",
            "12/12 [==============================] - 1s 103ms/step - loss: 0.1239 - accuracy: 0.9634 - val_loss: 0.0996 - val_accuracy: 0.9705\n",
            "Epoch 12/50\n",
            "12/12 [==============================] - 1s 102ms/step - loss: 0.1143 - accuracy: 0.9665 - val_loss: 0.0968 - val_accuracy: 0.9718\n",
            "Epoch 13/50\n",
            "12/12 [==============================] - 1s 103ms/step - loss: 0.1047 - accuracy: 0.9687 - val_loss: 0.0925 - val_accuracy: 0.9735\n",
            "Epoch 14/50\n",
            "12/12 [==============================] - 1s 103ms/step - loss: 0.1033 - accuracy: 0.9689 - val_loss: 0.0889 - val_accuracy: 0.9738\n",
            "Epoch 15/50\n",
            "12/12 [==============================] - 1s 102ms/step - loss: 0.0969 - accuracy: 0.9716 - val_loss: 0.0893 - val_accuracy: 0.9746\n",
            "Epoch 16/50\n",
            "12/12 [==============================] - 1s 104ms/step - loss: 0.0910 - accuracy: 0.9722 - val_loss: 0.0904 - val_accuracy: 0.9735\n",
            "Epoch 17/50\n",
            "12/12 [==============================] - 1s 103ms/step - loss: 0.0855 - accuracy: 0.9743 - val_loss: 0.0870 - val_accuracy: 0.9743\n",
            "Epoch 18/50\n",
            "12/12 [==============================] - 1s 102ms/step - loss: 0.0810 - accuracy: 0.9750 - val_loss: 0.0824 - val_accuracy: 0.9751\n",
            "Epoch 19/50\n",
            "12/12 [==============================] - 1s 102ms/step - loss: 0.0753 - accuracy: 0.9762 - val_loss: 0.0832 - val_accuracy: 0.9755\n",
            "Epoch 20/50\n",
            "12/12 [==============================] - 1s 104ms/step - loss: 0.0742 - accuracy: 0.9774 - val_loss: 0.0807 - val_accuracy: 0.9765\n",
            "Epoch 21/50\n",
            "12/12 [==============================] - 1s 105ms/step - loss: 0.0681 - accuracy: 0.9790 - val_loss: 0.0838 - val_accuracy: 0.9767\n",
            "Epoch 22/50\n",
            "12/12 [==============================] - 1s 103ms/step - loss: 0.0673 - accuracy: 0.9793 - val_loss: 0.0809 - val_accuracy: 0.9765\n",
            "Epoch 23/50\n",
            "12/12 [==============================] - 1s 102ms/step - loss: 0.0652 - accuracy: 0.9795 - val_loss: 0.0826 - val_accuracy: 0.9761\n",
            "Epoch 24/50\n",
            "12/12 [==============================] - 1s 102ms/step - loss: 0.0605 - accuracy: 0.9811 - val_loss: 0.0829 - val_accuracy: 0.9755\n",
            "Epoch 25/50\n",
            "12/12 [==============================] - 1s 103ms/step - loss: 0.0611 - accuracy: 0.9805 - val_loss: 0.0794 - val_accuracy: 0.9770\n",
            "Epoch 26/50\n",
            "12/12 [==============================] - 1s 103ms/step - loss: 0.0568 - accuracy: 0.9822 - val_loss: 0.0809 - val_accuracy: 0.9766\n",
            "Epoch 27/50\n",
            "12/12 [==============================] - 1s 104ms/step - loss: 0.0535 - accuracy: 0.9831 - val_loss: 0.0796 - val_accuracy: 0.9779\n",
            "Epoch 28/50\n",
            "12/12 [==============================] - 1s 103ms/step - loss: 0.0525 - accuracy: 0.9833 - val_loss: 0.0817 - val_accuracy: 0.9781\n",
            "Epoch 29/50\n",
            "12/12 [==============================] - 1s 104ms/step - loss: 0.0516 - accuracy: 0.9833 - val_loss: 0.0821 - val_accuracy: 0.9766\n",
            "Epoch 30/50\n",
            "12/12 [==============================] - 1s 104ms/step - loss: 0.0510 - accuracy: 0.9842 - val_loss: 0.0798 - val_accuracy: 0.9786\n",
            "Epoch 31/50\n",
            "12/12 [==============================] - 1s 102ms/step - loss: 0.0501 - accuracy: 0.9843 - val_loss: 0.0760 - val_accuracy: 0.9802\n",
            "Epoch 32/50\n",
            "12/12 [==============================] - 1s 104ms/step - loss: 0.0460 - accuracy: 0.9856 - val_loss: 0.0791 - val_accuracy: 0.9790\n",
            "Epoch 33/50\n",
            "12/12 [==============================] - 1s 101ms/step - loss: 0.0449 - accuracy: 0.9848 - val_loss: 0.0820 - val_accuracy: 0.9776\n",
            "Epoch 34/50\n",
            "12/12 [==============================] - 1s 101ms/step - loss: 0.0438 - accuracy: 0.9857 - val_loss: 0.0789 - val_accuracy: 0.9781\n",
            "Epoch 35/50\n",
            "12/12 [==============================] - 1s 103ms/step - loss: 0.0419 - accuracy: 0.9864 - val_loss: 0.0805 - val_accuracy: 0.9778\n",
            "Epoch 36/50\n",
            "12/12 [==============================] - 1s 103ms/step - loss: 0.0412 - accuracy: 0.9867 - val_loss: 0.0802 - val_accuracy: 0.9792\n",
            "Epoch 37/50\n",
            "12/12 [==============================] - 1s 103ms/step - loss: 0.0385 - accuracy: 0.9877 - val_loss: 0.0811 - val_accuracy: 0.9800\n",
            "Epoch 38/50\n",
            "12/12 [==============================] - 1s 103ms/step - loss: 0.0380 - accuracy: 0.9879 - val_loss: 0.0803 - val_accuracy: 0.9798\n",
            "Epoch 39/50\n",
            "12/12 [==============================] - 1s 102ms/step - loss: 0.0384 - accuracy: 0.9871 - val_loss: 0.0808 - val_accuracy: 0.9797\n",
            "Epoch 40/50\n",
            "12/12 [==============================] - 1s 103ms/step - loss: 0.0371 - accuracy: 0.9877 - val_loss: 0.0834 - val_accuracy: 0.9796\n",
            "Epoch 41/50\n",
            "12/12 [==============================] - 1s 102ms/step - loss: 0.0350 - accuracy: 0.9888 - val_loss: 0.0807 - val_accuracy: 0.9798\n",
            "Epoch 42/50\n",
            "12/12 [==============================] - 1s 102ms/step - loss: 0.0350 - accuracy: 0.9887 - val_loss: 0.0839 - val_accuracy: 0.9783\n",
            "Epoch 43/50\n",
            "12/12 [==============================] - 1s 102ms/step - loss: 0.0338 - accuracy: 0.9890 - val_loss: 0.0809 - val_accuracy: 0.9794\n",
            "Epoch 44/50\n",
            "12/12 [==============================] - 1s 102ms/step - loss: 0.0336 - accuracy: 0.9890 - val_loss: 0.0815 - val_accuracy: 0.9801\n",
            "Epoch 45/50\n",
            "12/12 [==============================] - 1s 103ms/step - loss: 0.0336 - accuracy: 0.9886 - val_loss: 0.0815 - val_accuracy: 0.9793\n",
            "Epoch 46/50\n",
            "12/12 [==============================] - 1s 103ms/step - loss: 0.0320 - accuracy: 0.9892 - val_loss: 0.0807 - val_accuracy: 0.9793\n",
            "Epoch 47/50\n",
            "12/12 [==============================] - 1s 102ms/step - loss: 0.0322 - accuracy: 0.9899 - val_loss: 0.0843 - val_accuracy: 0.9793\n",
            "Epoch 48/50\n",
            "12/12 [==============================] - 1s 103ms/step - loss: 0.0304 - accuracy: 0.9905 - val_loss: 0.0824 - val_accuracy: 0.9795\n",
            "Epoch 49/50\n",
            "12/12 [==============================] - 1s 102ms/step - loss: 0.0305 - accuracy: 0.9895 - val_loss: 0.0822 - val_accuracy: 0.9789\n",
            "Epoch 50/50\n",
            "12/12 [==============================] - 1s 102ms/step - loss: 0.0276 - accuracy: 0.9912 - val_loss: 0.0860 - val_accuracy: 0.9797\n",
            "\n",
            " Evaluate the new model against the test set:\n",
            "3/3 [==============================] - 0s 27ms/step - loss: 0.0766 - accuracy: 0.9821\n"
          ]
        },
        {
          "output_type": "execute_result",
          "data": {
            "text/plain": [
              "[0.076572947204113, 0.9821000099182129]"
            ]
          },
          "metadata": {},
          "execution_count": 17
        },
        {
          "output_type": "display_data",
          "data": {
            "image/png": "[encoded data removed]",
            "text/plain": [
              "<Figure size 432x288 with 1 Axes>"
            ]
          },
          "metadata": {
            "needs_background": "light"
          }
        }
      ]
    }
  ]
}